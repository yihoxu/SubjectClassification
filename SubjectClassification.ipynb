{
 "cells": [
  {
   "cell_type": "markdown",
   "metadata": {
    "collapsed": false
   },
   "source": [
    "# 图像分类：基于PaddleX的美食识别小功能"
   ]
  },
  {
   "cell_type": "markdown",
   "metadata": {
    "collapsed": false
   },
   "source": [
    "## 一、写在前面\n",
    "\n",
    "\t随着人们的生活质量日益增长，美食成为人们的高质量生活不可或缺的一部分。遇见美食，吃定美食。面对无数的美食，你是否也会觉得目不暇接？为了能够更好的在家庭聚会上展示我的见识，我选择使用PaddleX来完成美食识别这个任务。\n"
   ]
  },
  {
   "cell_type": "markdown",
   "metadata": {
    "collapsed": false
   },
   "source": [
    "## 二、准备工作\n"
   ]
  },
  {
   "cell_type": "code",
   "execution_count": 11,
   "metadata": {
    "collapsed": false
   },
   "outputs": [],
   "source": [
    "#!rm -rf output\r\n",
    "#!rm -rf work/*\r\n",
    "#!rm -rf inference_model"
   ]
  },
  {
   "cell_type": "markdown",
   "metadata": {
    "collapsed": false
   },
   "source": [
    "### 安装依赖"
   ]
  },
  {
   "cell_type": "code",
   "execution_count": 1,
   "metadata": {
    "collapsed": false
   },
   "outputs": [],
   "source": [
    "# 安装PaddleX\r\n",
    "!pip install paddlex -i https://mirror.baidu.com/pypi/simple"
   ]
  },
  {
   "cell_type": "markdown",
   "metadata": {
    "collapsed": false
   },
   "source": [
    "### 关于数据\n",
    "\n",
    "> 数据集组织格式参照：[图像分类](https://paddlex.readthedocs.io/zh_CN/release-1.3/data/annotation/classification.html)"
   ]
  },
  {
   "cell_type": "code",
   "execution_count": 2,
   "metadata": {
    "collapsed": false
   },
   "outputs": [],
   "source": [
    "# 解压数据集，放在work下使其可以永久保存\r\n",
    "!unzip -oq /home/aistudio/data/data70793/foods.zip -d work/"
   ]
  },
  {
   "cell_type": "code",
   "execution_count": 4,
   "metadata": {
    "collapsed": false
   },
   "outputs": [
    {
     "name": "stdout",
     "output_type": "stream",
     "text": [
      "work/foods\r\n",
      "├── apple_pie\r\n",
      "├── baby_back_ribs\r\n",
      "├── baklava\r\n",
      "├── beef_carpaccio\r\n",
      "└── beef_tartare\r\n",
      "\r\n",
      "5 directories, 0 files\r\n"
     ]
    }
   ],
   "source": [
    "# 查看数据集文件结构\r\n",
    "!tree work/foods -L 1"
   ]
  },
  {
   "cell_type": "code",
   "execution_count": 5,
   "metadata": {
    "collapsed": false
   },
   "outputs": [
    {
     "name": "stdout",
     "output_type": "stream",
     "text": [
      "Dataset Split Done.\u001b[0m\r\n",
      "\u001b[0mTrain samples: 3500\u001b[0m\r\n",
      "\u001b[0mEval samples: 1000\u001b[0m\r\n",
      "\u001b[0mTest samples: 500\u001b[0m\r\n",
      "\u001b[0mSplit files saved in work/foods\u001b[0m\r\n",
      "\u001b[0m\u001b[0m"
     ]
    }
   ],
   "source": [
    "# 使用PaddleX划分数据集\r\n",
    "!paddlex --split_dataset --format ImageNet --dataset_dir work/foods --val_value 0.2 --test_value 0.1"
   ]
  },
  {
   "cell_type": "code",
   "execution_count": 6,
   "metadata": {
    "collapsed": false
   },
   "outputs": [
    {
     "name": "stdout",
     "output_type": "stream",
     "text": [
      "2021-08-15 17:27:26 [INFO]\tStarting to read file list from dataset...\n",
      "2021-08-15 17:27:26 [INFO]\t3500 samples in file work/foods/train_list.txt\n",
      "2021-08-15 17:27:26 [INFO]\tStarting to read file list from dataset...\n",
      "2021-08-15 17:27:26 [INFO]\t1000 samples in file work/foods/val_list.txt\n"
     ]
    }
   ],
   "source": [
    "import paddlex as pdx\r\n",
    "from paddlex.cls import transforms\r\n",
    "# 数据增强：定义训练和验证时的transforms\r\n",
    "train_transforms = transforms.Compose([\r\n",
    "    # 图像预处理代码：随机水平翻转、随机垂直翻转、随机旋转、标准化\r\n",
    "    transforms.RandomHorizontalFlip(),\r\n",
    "    transforms.RandomVerticalFlip(),\r\n",
    "    transforms.RandomRotate(),\r\n",
    "    transforms.Normalize()\r\n",
    "])\r\n",
    "\r\n",
    "eval_transforms = transforms.Compose([\r\n",
    "    transforms.RandomHorizontalFlip(),\r\n",
    "    transforms.RandomVerticalFlip(),\r\n",
    "    transforms.RandomRotate(),\r\n",
    "    transforms.Normalize()\r\n",
    "])\r\n",
    "\r\n",
    "# 数据集读取\r\n",
    "path ='work/foods'\r\n",
    "train_dataset = pdx.datasets.ImageNet(\r\n",
    "                    data_dir= path,\r\n",
    "                    file_list= path + '/train_list.txt',\r\n",
    "                    label_list= path + '/labels.txt',\r\n",
    "                    transforms=train_transforms)\r\n",
    "eval_dataset = pdx.datasets.ImageNet(\r\n",
    "                    data_dir= path,\r\n",
    "                    file_list= path + '/val_list.txt',\r\n",
    "                    label_list= path + '/labels.txt',\r\n",
    "                    transforms=eval_transforms)"
   ]
  },
  {
   "cell_type": "markdown",
   "metadata": {
    "collapsed": false
   },
   "source": [
    "## 三、模型选择\n",
    ">"
   ]
  },
  {
   "cell_type": "code",
   "execution_count": 7,
   "metadata": {
    "collapsed": false
   },
   "outputs": [
    {
     "name": "stderr",
     "output_type": "stream",
     "text": [
      "/opt/conda/envs/python35-paddle120-env/lib/python3.7/site-packages/matplotlib/__init__.py:107: DeprecationWarning: Using or importing the ABCs from 'collections' instead of from 'collections.abc' is deprecated, and in 3.8 it will stop working\n",
      "  from collections import MutableMapping\n",
      "/opt/conda/envs/python35-paddle120-env/lib/python3.7/site-packages/matplotlib/rcsetup.py:20: DeprecationWarning: Using or importing the ABCs from 'collections' instead of from 'collections.abc' is deprecated, and in 3.8 it will stop working\n",
      "  from collections import Iterable, Mapping\n",
      "/opt/conda/envs/python35-paddle120-env/lib/python3.7/site-packages/matplotlib/colors.py:53: DeprecationWarning: Using or importing the ABCs from 'collections' instead of from 'collections.abc' is deprecated, and in 3.8 it will stop working\n",
      "  from collections import Sized\n"
     ]
    }
   ],
   "source": [
    "# 设置使用0号GPU卡（如无GPU，执行此代码后仍然会使用CPU训练模型）\r\n",
    "import matplotlib\r\n",
    "matplotlib.use('Agg') \r\n",
    "import os\r\n",
    "os.environ['CUDA_VISIBLE_DEVICES'] = '0'"
   ]
  },
  {
   "cell_type": "markdown",
   "metadata": {
    "collapsed": false
   },
   "source": []
  },
  {
   "cell_type": "code",
   "execution_count": 8,
   "metadata": {
    "collapsed": false
   },
   "outputs": [],
   "source": [
    "num_classes = len(train_dataset.labels)\r\n",
    "model = pdx.cls.MobileNetV3_large_ssld(num_classes=num_classes)\r\n",
    "model.train(num_epochs=1,\r\n",
    "            train_dataset=train_dataset,\r\n",
    "            train_batch_size=16,\r\n",
    "            eval_dataset=eval_dataset,\r\n",
    "            lr_decay_epochs=[6, 8],\r\n",
    "            save_interval_epochs=1,\r\n",
    "            learning_rate=0.00625,\r\n",
    "            save_dir='output/mobilenetv3_large_ssld',\r\n",
    "            use_vdl=True)"
   ]
  },
  {
   "cell_type": "markdown",
   "metadata": {
    "collapsed": false
   },
   "source": [
    "## 四、效果展示\n",
    "\n"
   ]
  },
  {
   "cell_type": "code",
   "execution_count": 10,
   "metadata": {
    "collapsed": false
   },
   "outputs": [
    {
     "name": "stdout",
     "output_type": "stream",
     "text": [
      "2021-08-15 17:30:07 [INFO]\tModel[MobileNetV3_large_ssld] loaded.\n",
      "Predict Result: [{'category_id': 4, 'category': 'beef_tartare', 'score': 0.99981517}]\n"
     ]
    }
   ],
   "source": [
    "import paddlex as pdx\r\n",
    "# 模型载入\r\n",
    "model = pdx.load_model('output/mobilenetv3_large_ssld/best_model')\r\n",
    "# 使用数据集文件夹下test.txt中的一张图片进行预测，打印预测结果）\r\n",
    "image_name = 'work/foods/beef_carpaccio/3400.jpg'\r\n",
    "result = model.predict(image_name)\r\n",
    "print(\"Predict Result:\", result)"
   ]
  },
  {
   "cell_type": "markdown",
   "metadata": {
    "collapsed": false
   },
   "source": [
    "## 五、模型导出"
   ]
  },
  {
   "cell_type": "code",
   "execution_count": 7,
   "metadata": {
    "collapsed": false
   },
   "outputs": [],
   "source": [
    "!paddlex --export_inference --model_dir=output/mobilenetv3_large_ssld/best_model --save_dir=inference_model"
   ]
  },
  {
   "cell_type": "markdown",
   "metadata": {
    "collapsed": false
   },
   "source": [
    "## 六、总结说明\n",
    "#### 1.数据集获取\n",
    "* 一开始选择的项目因为找不到合适的数据集而不得不放弃，然后选择了这个美食识别的项目，在飞浆里面可以得到很好的数据集\n",
    "#### 2.模型训练\n",
    "* 在模型训练中`model.train()`每次运行只能使用一次，需要多次使用时得重启环境；设置`train_batch_size`默认是32，可以根据模型大小设置，但是设太大容易爆内存\n",
    "* 使用PaddleX很多时候会内存溢出，可以尝试重启环境释放内存以解决问题\n",
    "#### 3.个人感受\n",
    "* 关于使用PaddleX的感受，我觉得PaddleX很适合小白快速开发一个属于自己的项目，对于小白来说是个非常友好的开发工具\n",
    "* 完成项目的过程中也有很多需要请教学长的地方，在这里也非常感谢热心指导我的各位学长"
   ]
  },
  {
   "cell_type": "markdown",
   "metadata": {
    "collapsed": false
   },
   "source": [
    "## 个人简介"
   ]
  },
  {
   "cell_type": "markdown",
   "metadata": {
    "collapsed": false
   },
   "source": [
    "> 作者：杨宗键\n",
    "\n",
    "\n",
    "> 东北大学秦皇岛分校2020级自动化本科生\n",
    "\n",
    "\n",
    "> 感兴趣方向：cv、深度学习\n",
    "\n",
    "\n",
    "我在[AI Studio](https://aistudio.baidu.com/aistudio/personalcenter/thirdview/568205)上获得青铜等级，点亮1个徽章，来互关呀！！"
   ]
  }
 ],
 "metadata": {
  "kernelspec": {
   "display_name": "PaddlePaddle 2.1.2 (Python 3.5)",
   "language": "python",
   "name": "py35-paddle1.2.0"
  },
  "language_info": {
   "codemirror_mode": {
    "name": "ipython",
    "version": 3
   },
   "file_extension": ".py",
   "mimetype": "text/x-python",
   "name": "python",
   "nbconvert_exporter": "python",
   "pygments_lexer": "ipython3",
   "version": "3.7.4"
  }
 },
 "nbformat": 4,
 "nbformat_minor": 1
}
